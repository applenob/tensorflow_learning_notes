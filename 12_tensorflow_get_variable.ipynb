{
 "cells": [
  {
   "cell_type": "markdown",
   "metadata": {
    "collapsed": true
   },
   "source": [
    "# Variable复用/get_variable\n",
    "\n",
    "```\n",
    "本篇博客记录如何实现变量复用。\n",
    "```"
   ]
  },
  {
   "cell_type": "markdown",
   "metadata": {},
   "source": [
    "首先介绍变量复用的典型应用场景：\n",
    "\n",
    "rnn单元，按时间展开后变量是复用的；多gpu工作的时候，可能要统一使用cpu定义的变量。\n",
    "\n",
    "## tf.variable_scope\n",
    "\n",
    "variable_scope相当于给变量名前面加一些前缀，避免名称冲突的问题；也可以使得graph在tensorboard中可以更有层次地显示。\n",
    "\n",
    "变量复用往往和variable_scope一起使用，当你希望你的变量定义的是不复用的时候，使用：\n",
    "\n",
    "```python\n",
    "with tf.variable_scope(\"scope_name\"):\n",
    "```\n",
    "\n",
    "当你希望当前域中的变量是可以复用的时候，使用：\n",
    "\n",
    "```python\n",
    "with tf.variable_scope(\"scope_name\", reuse=True):\n",
    "```\n",
    "\n",
    "或者显式地调用：\n",
    "\n",
    "```python\n",
    "scope.reuse_variables()\n",
    "```\n",
    "\n",
    "当然设置完variable_scope只是起点，接下来是获取变量。\n",
    "\n",
    "## tf.get_variable\n",
    "\n",
    "get_variable会按照名称去找之前有没有定义好的variable，有则复用；无则创建。\n",
    "\n"
   ]
  },
  {
   "cell_type": "code",
   "execution_count": 1,
   "metadata": {
    "collapsed": true
   },
   "outputs": [],
   "source": [
    "import tensorflow as tf"
   ]
  },
  {
   "cell_type": "code",
   "execution_count": 2,
   "metadata": {
    "collapsed": true
   },
   "outputs": [],
   "source": [
    "# 定义scope\n",
    "with tf.variable_scope(\"foo\"):\n",
    "    # 第一次创建变量\n",
    "    v = tf.get_variable(\"v\", [1])\n",
    "    tf.get_variable_scope().reuse_variables()\n",
    "    # 第二次直接复用\n",
    "    v1 = tf.get_variable(\"v\", [1])\n",
    "assert v1 is v"
   ]
  },
  {
   "cell_type": "code",
   "execution_count": null,
   "metadata": {
    "collapsed": true
   },
   "outputs": [],
   "source": []
  }
 ],
 "metadata": {
  "kernelspec": {
   "display_name": "Python [default]",
   "language": "python",
   "name": "python2"
  },
  "language_info": {
   "codemirror_mode": {
    "name": "ipython",
    "version": 2
   },
   "file_extension": ".py",
   "mimetype": "text/x-python",
   "name": "python",
   "nbconvert_exporter": "python",
   "pygments_lexer": "ipython2",
   "version": "2.7.12"
  }
 },
 "nbformat": 4,
 "nbformat_minor": 0
}
