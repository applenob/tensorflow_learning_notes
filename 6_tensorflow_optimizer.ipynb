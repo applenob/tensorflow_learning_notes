{
 "cells": [
  {
   "cell_type": "markdown",
   "metadata": {
    "collapsed": true
   },
   "source": [
    "# Optimizer"
   ]
  },
  {
   "cell_type": "markdown",
   "metadata": {},
   "source": [
    "```\n",
    "本篇博客探索所用tensorflow的优化器解决最优化问题\n",
    "```"
   ]
  },
  {
   "cell_type": "code",
   "execution_count": 1,
   "metadata": {
    "collapsed": true
   },
   "outputs": [],
   "source": [
    "import tensorflow as tf"
   ]
  },
  {
   "cell_type": "markdown",
   "metadata": {},
   "source": [
    "定义目标函数， $loss = (x-3)^2$， 求goal最小时，x的值："
   ]
  },
  {
   "cell_type": "code",
   "execution_count": 2,
   "metadata": {
    "collapsed": false
   },
   "outputs": [],
   "source": [
    "# x = tf.placeholder(tf.float32)\n",
    "x = tf.Variable(tf.truncated_normal([1]), name=\"x\")\n",
    "goal = tf.pow(x-3,2, name=\"goal\")"
   ]
  },
  {
   "cell_type": "code",
   "execution_count": 3,
   "metadata": {
    "collapsed": false
   },
   "outputs": [
    {
     "name": "stdout",
     "output_type": "stream",
     "text": [
      "[-0.15094033]\n",
      "[ 9.92842579]\n"
     ]
    }
   ],
   "source": [
    "with tf.Session() as sess:\n",
    "    x.initializer.run()\n",
    "    print x.eval()\n",
    "    print goal.eval()"
   ]
  },
  {
   "cell_type": "markdown",
   "metadata": {},
   "source": [
    "使用梯度下降优化器解决问题。\n",
    "\n",
    "## 1. 使用minimize()"
   ]
  },
  {
   "cell_type": "code",
   "execution_count": 4,
   "metadata": {
    "collapsed": false
   },
   "outputs": [],
   "source": [
    "optimizer = tf.train.GradientDescentOptimizer(learning_rate=0.1)\n",
    "train_step = optimizer.minimize(goal)"
   ]
  },
  {
   "cell_type": "code",
   "execution_count": 5,
   "metadata": {
    "collapsed": false
   },
   "outputs": [
    {
     "name": "stdout",
     "output_type": "stream",
     "text": [
      "x:  [ 0.0178078]\n",
      "goal:  [ 5.69182014]\n",
      "x:  [ 0.61424625]\n",
      "goal:  [ 3.64276576]\n",
      "x:  [ 1.09139693]\n",
      "goal:  [ 2.33137012]\n",
      "x:  [ 1.47311759]\n",
      "goal:  [ 1.49207664]\n",
      "x:  [ 1.77849412]\n",
      "goal:  [ 0.95492917]\n",
      "x:  [ 2.0227952]\n",
      "goal:  [ 0.61115462]\n",
      "x:  [ 2.21823621]\n",
      "goal:  [ 0.39113891]\n",
      "x:  [ 2.37458897]\n",
      "goal:  [ 0.25032887]\n",
      "x:  [ 2.49967122]\n",
      "goal:  [ 0.16021053]\n",
      "x:  [ 2.59973693]\n",
      "goal:  [ 0.10253474]\n"
     ]
    }
   ],
   "source": [
    "def train():\n",
    "    with tf.Session() as sess:\n",
    "        x.initializer.run()\n",
    "        for i in range(10):\n",
    "            print \"x: \", x.eval()\n",
    "            train_step.run()\n",
    "            print \"goal: \",goal.eval()    \n",
    "train()"
   ]
  },
  {
   "cell_type": "markdown",
   "metadata": {},
   "source": [
    "### 如果是最大化呢？\n",
    "\n",
    "很简单，给目标函数套上tf.negative就可以了。不过好像写成-1 * 完全没有区别～～"
   ]
  },
  {
   "cell_type": "code",
   "execution_count": 6,
   "metadata": {
    "collapsed": true
   },
   "outputs": [],
   "source": [
    "y = tf.Variable(tf.truncated_normal([1]))\n",
    "max_goal = tf.sin(y)\n",
    "optimizer = tf.train.GradientDescentOptimizer(learning_rate=0.1)\n",
    "# train_step = optimizer.minimize(tf.negative(max_goal))\n",
    "train_step = optimizer.minimize(-1 * max_goal)"
   ]
  },
  {
   "cell_type": "code",
   "execution_count": 7,
   "metadata": {
    "collapsed": false
   },
   "outputs": [
    {
     "name": "stdout",
     "output_type": "stream",
     "text": [
      "y:  [ 0.44078666]\n",
      "max_goal:  [ 0.50659275]\n",
      "y:  [ 0.5312283]\n",
      "max_goal:  [ 0.57895529]\n",
      "y:  [ 0.61744684]\n",
      "max_goal:  [ 0.64343935]\n",
      "y:  [ 0.69898278]\n",
      "max_goal:  [ 0.70009637]\n",
      "y:  [ 0.77553248]\n",
      "max_goal:  [ 0.7492556]\n",
      "y:  [ 0.8469373]\n",
      "max_goal:  [ 0.79144251]\n",
      "y:  [ 0.91316539]\n",
      "max_goal:  [ 0.82730311]\n",
      "y:  [ 0.97428977]\n",
      "max_goal:  [ 0.85753846]\n",
      "y:  [ 1.03046536]\n",
      "max_goal:  [ 0.88285518]\n",
      "y:  [ 1.08190739]\n",
      "max_goal:  [ 0.90393031]\n"
     ]
    }
   ],
   "source": [
    "with tf.Session() as sess:\n",
    "    y.initializer.run()\n",
    "    for i in range(10):\n",
    "        print \"y: \", y.eval()\n",
    "        train_step.run()\n",
    "        print \"max_goal: \",max_goal.eval()"
   ]
  },
  {
   "cell_type": "markdown",
   "metadata": {},
   "source": [
    "## 2 . minimize() = compute_gradients() + apply_gradients()\n",
    "\n",
    "拆分成计算梯度和应用梯度两个步骤。"
   ]
  },
  {
   "cell_type": "code",
   "execution_count": 8,
   "metadata": {
    "collapsed": false
   },
   "outputs": [
    {
     "name": "stdout",
     "output_type": "stream",
     "text": [
      "x:  [ 0.40001234]\n",
      "goal:  [ 4.32635927]\n",
      "x:  [ 0.92000991]\n",
      "goal:  [ 2.7688694]\n",
      "x:  [ 1.33600795]\n",
      "goal:  [ 1.77207625]\n",
      "x:  [ 1.66880643]\n",
      "goal:  [ 1.13412893]\n",
      "x:  [ 1.93504512]\n",
      "goal:  [ 0.72584224]\n",
      "x:  [ 2.14803624]\n",
      "goal:  [ 0.46453902]\n",
      "x:  [ 2.31842899]\n",
      "goal:  [ 0.29730505]\n",
      "x:  [ 2.45474315]\n",
      "goal:  [ 0.19027515]\n",
      "x:  [ 2.56379461]\n",
      "goal:  [ 0.12177601]\n",
      "x:  [ 2.65103579]\n",
      "goal:  [ 0.07793671]\n"
     ]
    }
   ],
   "source": [
    "# compute_gradients 返回的是：A list of (gradient, variable) pairs\n",
    "gra_and_var = optimizer.compute_gradients(goal)\n",
    "train_step = optimizer.apply_gradients(gra_and_var)\n",
    "train()"
   ]
  },
  {
   "cell_type": "markdown",
   "metadata": {},
   "source": [
    "## 3. 进一步\n",
    "\n",
    "### clip_by_global_norm:修正梯度值\n",
    "\n",
    "用于控制梯度爆炸的问题。梯度爆炸和梯度弥散的原因一样，都是因为链式法则求导的关系，导致梯度的指数级衰减。为了避免梯度爆炸，需要对梯度进行修剪。 "
   ]
  },
  {
   "cell_type": "code",
   "execution_count": 9,
   "metadata": {
    "collapsed": false
   },
   "outputs": [
    {
     "name": "stdout",
     "output_type": "stream",
     "text": [
      "x:  [-0.76665598]\n",
      "goal:  [ 13.26165771]\n",
      "x:  [-0.64165598]\n",
      "goal:  [ 12.36686897]\n",
      "x:  [-0.51665598]\n",
      "goal:  [ 11.50333118]\n",
      "x:  [-0.39165598]\n",
      "goal:  [ 10.67104053]\n",
      "x:  [-0.26665598]\n",
      "goal:  [ 9.87000275]\n",
      "x:  [-0.14165597]\n",
      "goal:  [ 9.10021305]\n",
      "x:  [-0.01665596]\n",
      "goal:  [ 8.36167431]\n",
      "x:  [ 0.10834403]\n",
      "goal:  [ 7.65438461]\n",
      "x:  [ 0.23334403]\n",
      "goal:  [ 6.97834587]\n",
      "x:  [ 0.35834405]\n",
      "goal:  [ 6.33355713]\n"
     ]
    }
   ],
   "source": [
    "gradients, vriables = zip(*optimizer.compute_gradients(goal))\n",
    "gradients, _ = tf.clip_by_global_norm(gradients, 1.25)\n",
    "train_step = optimizer.apply_gradients(zip(gradients, vriables))\n",
    "train()"
   ]
  },
  {
   "cell_type": "markdown",
   "metadata": {},
   "source": [
    "### exponential_decay 加入学习率衰减："
   ]
  },
  {
   "cell_type": "code",
   "execution_count": 10,
   "metadata": {
    "collapsed": false
   },
   "outputs": [
    {
     "name": "stdout",
     "output_type": "stream",
     "text": [
      "x:  [-0.92852646]\n",
      "goal:  [ 0.03187185]\n",
      "x:  [ 2.82147312]\n",
      "goal:  [ 0.79679614]\n",
      "x:  [ 3.89263439]\n",
      "goal:  [ 8.16453552]\n",
      "x:  [ 0.14263475]\n",
      "goal:  [ 3.00108886]\n",
      "x:  [ 1.26763487]\n",
      "goal:  [ 0.3688924]\n",
      "x:  [ 2.39263487]\n",
      "goal:  [ 0.23609133]\n",
      "x:  [ 3.4858923]\n",
      "goal:  [ 0.04995694]\n",
      "x:  [ 3.2235105]\n",
      "goal:  [ 0.01057091]\n",
      "x:  [ 3.10281491]\n",
      "goal:  [ 0.0022368]\n",
      "x:  [ 3.04729486]\n",
      "goal:  [ 0.00157078]\n"
     ]
    }
   ],
   "source": [
    "# global_step 记录当前是第几个batch\n",
    "global_step = tf.Variable(0)\n",
    "learning_rate = tf.train.exponential_decay(\n",
    "    3.0, global_step, 3, 0.3, staircase=True)\n",
    "optimizer2 = tf.train.GradientDescentOptimizer(learning_rate)\n",
    "gradients, vriables = zip(*optimizer2.compute_gradients(goal))\n",
    "gradients, _ = tf.clip_by_global_norm(gradients, 1.25)\n",
    "train_step = optimizer2.apply_gradients(zip(gradients, vriables), \n",
    "                                       global_step=global_step)\n",
    "with tf.Session() as sess:\n",
    "        global_step.initializer.run()\n",
    "        x.initializer.run()\n",
    "        for i in range(10):\n",
    "            print \"x: \", x.eval()\n",
    "            train_step.run()\n",
    "            print \"goal: \",goal.eval()"
   ]
  }
 ],
 "metadata": {
  "anaconda-cloud": {},
  "kernelspec": {
   "display_name": "Python [default]",
   "language": "python",
   "name": "python2"
  },
  "language_info": {
   "codemirror_mode": {
    "name": "ipython",
    "version": 2
   },
   "file_extension": ".py",
   "mimetype": "text/x-python",
   "name": "python",
   "nbconvert_exporter": "python",
   "pygments_lexer": "ipython2",
   "version": "2.7.12"
  }
 },
 "nbformat": 4,
 "nbformat_minor": 0
}
