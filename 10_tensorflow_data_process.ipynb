{
 "cells": [
  {
   "cell_type": "code",
   "execution_count": 1,
   "metadata": {
    "collapsed": true
   },
   "outputs": [],
   "source": [
    "import tensorflow as tf"
   ]
  },
  {
   "cell_type": "markdown",
   "metadata": {},
   "source": [
    "```\n",
    "本篇博客记录tensorflow中和数据处理相关的操作。\n",
    "```"
   ]
  },
  {
   "cell_type": "markdown",
   "metadata": {},
   "source": [
    "## 1. tf.one_hot\n",
    "\n",
    "list of indices to one hot.\n",
    "\n",
    "比如原来的index列表是[0, 2, -1, 1]"
   ]
  },
  {
   "cell_type": "code",
   "execution_count": 2,
   "metadata": {
    "collapsed": false
   },
   "outputs": [],
   "source": [
    "one_hot = tf.one_hot(indices = [0, 2, -1, 1],\n",
    "                     depth = 3,\n",
    "                     on_value = 1.0,\n",
    "                     off_value = 0.0,\n",
    "                     axis = -1)"
   ]
  },
  {
   "cell_type": "code",
   "execution_count": 3,
   "metadata": {
    "collapsed": false
   },
   "outputs": [
    {
     "name": "stdout",
     "output_type": "stream",
     "text": [
      "[[ 1.  0.  0.]\n",
      " [ 0.  0.  1.]\n",
      " [ 0.  0.  0.]\n",
      " [ 0.  1.  0.]]\n"
     ]
    }
   ],
   "source": [
    "sess = tf.Session()\n",
    "print sess.run(one_hot)"
   ]
  },
  {
   "cell_type": "markdown",
   "metadata": {},
   "source": [
    "这个操作很像embedding lookup，只是返回的数据是depth维的one hot向量。"
   ]
  },
  {
   "cell_type": "markdown",
   "metadata": {
    "collapsed": true
   },
   "source": [
    "## 2. tf.sequence_mask\n",
    "\n",
    "这个操作和one hot也很像，但是指定的不是index而是从前到后有多少个True，返回的是True和False。"
   ]
  },
  {
   "cell_type": "code",
   "execution_count": 4,
   "metadata": {
    "collapsed": true
   },
   "outputs": [],
   "source": [
    "sq_mask = tf.sequence_mask([1, 3, 2], 5)"
   ]
  },
  {
   "cell_type": "code",
   "execution_count": 5,
   "metadata": {
    "collapsed": false
   },
   "outputs": [
    {
     "name": "stdout",
     "output_type": "stream",
     "text": [
      "[[ True False False False False]\n",
      " [ True  True  True False False]\n",
      " [ True  True False False False]]\n"
     ]
    }
   ],
   "source": [
    "print sess.run(sq_mask)"
   ]
  },
  {
   "cell_type": "markdown",
   "metadata": {},
   "source": [
    "## 3. tf.boolean_mask\n",
    "\n",
    "这个操作可以用于留下指定的元素，类似于numpy的操作。"
   ]
  },
  {
   "cell_type": "code",
   "execution_count": 6,
   "metadata": {
    "collapsed": false
   },
   "outputs": [],
   "source": [
    "import numpy as np\n",
    "tensor = tf.range(4)\n",
    "mask = np.array([True, False, True, False])\n",
    "bool_mask = tf.boolean_mask(tensor, mask)"
   ]
  },
  {
   "cell_type": "code",
   "execution_count": 7,
   "metadata": {
    "collapsed": false
   },
   "outputs": [
    {
     "name": "stdout",
     "output_type": "stream",
     "text": [
      "[0 2]\n"
     ]
    }
   ],
   "source": [
    "print sess.run(bool_mask)"
   ]
  },
  {
   "cell_type": "markdown",
   "metadata": {},
   "source": [
    "也可以先用数字传进来，再转换成bool，这样就可以利用one_hot了。"
   ]
  },
  {
   "cell_type": "code",
   "execution_count": 8,
   "metadata": {
    "collapsed": false
   },
   "outputs": [
    {
     "name": "stdout",
     "output_type": "stream",
     "text": [
      "[0 2]\n"
     ]
    }
   ],
   "source": [
    "num_mask = np.array([1,0,1,0])\n",
    "num_mask = tf.cast(num_mask, tf.bool)\n",
    "bool_num_mask = tf.boolean_mask(tensor, num_mask)\n",
    "print sess.run(bool_num_mask)"
   ]
  },
  {
   "cell_type": "markdown",
   "metadata": {},
   "source": [
    "mask和被处理的tensor必须shape相同，执行下面的代码会报错："
   ]
  },
  {
   "cell_type": "code",
   "execution_count": null,
   "metadata": {
    "collapsed": true
   },
   "outputs": [],
   "source": [
    "tensor = tf.reshape(tf.range(8), [2,4])\n",
    "mask = np.array([True, False, True, False])\n",
    "bool_mask = tf.boolean_mask(tensor, mask)\n",
    "print sess.run(bool_mask)"
   ]
  },
  {
   "cell_type": "markdown",
   "metadata": {},
   "source": [
    "用这个操作还可以直接实现**删除某行或某列**的功能："
   ]
  },
  {
   "cell_type": "code",
   "execution_count": 15,
   "metadata": {
    "collapsed": false
   },
   "outputs": [
    {
     "name": "stdout",
     "output_type": "stream",
     "text": [
      "[[ 0  1  2  3]\n",
      " [ 4  5  6  7]\n",
      " [ 8  9 10 11]]\n",
      "---after---\n",
      "[[ 0  1  2  3]\n",
      " [ 8  9 10 11]]\n"
     ]
    }
   ],
   "source": [
    "tensor = tf.reshape(tf.range(12), [3,4])\n",
    "mask = np.array([[True, True, True, True],\n",
    "                [False, False, False, False],\n",
    "                [True, True, True, True]])\n",
    "bool_mask = tf.reshape(tf.boolean_mask(tensor, mask),[2,4])\n",
    "print sess.run(tensor)\n",
    "print \"---after---\"\n",
    "print sess.run(bool_mask)"
   ]
  },
  {
   "cell_type": "markdown",
   "metadata": {},
   "source": [
    "mask也可以是一个tensor。"
   ]
  },
  {
   "cell_type": "code",
   "execution_count": 17,
   "metadata": {
    "collapsed": false
   },
   "outputs": [
    {
     "name": "stdout",
     "output_type": "stream",
     "text": [
      "[[ 0  1  2  3]\n",
      " [ 4  5  6  7]\n",
      " [ 8  9 10 11]]\n",
      "---after---\n",
      "[[ 0  1  2  3]\n",
      " [ 8  9 10 11]]\n"
     ]
    }
   ],
   "source": [
    "tensor = tf.reshape(tf.range(12), [3,4])\n",
    "mask = tf.stack([tf.ones(4), tf.zeros(4), tf.ones(4)], 0)\n",
    "mask = tf.cast(mask, tf.bool)\n",
    "bool_mask = tf.reshape(tf.boolean_mask(tensor, mask),[2,4])\n",
    "print sess.run(tensor)\n",
    "print \"---after---\"\n",
    "print sess.run(bool_mask)"
   ]
  }
 ],
 "metadata": {
  "anaconda-cloud": {},
  "kernelspec": {
   "display_name": "Python [default]",
   "language": "python",
   "name": "python2"
  },
  "language_info": {
   "codemirror_mode": {
    "name": "ipython",
    "version": 2.0
   },
   "file_extension": ".py",
   "mimetype": "text/x-python",
   "name": "python",
   "nbconvert_exporter": "python",
   "pygments_lexer": "ipython2",
   "version": "2.7.12"
  }
 },
 "nbformat": 4,
 "nbformat_minor": 0
}