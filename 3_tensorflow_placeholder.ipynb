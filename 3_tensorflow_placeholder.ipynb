{
 "cells": [
  {
   "cell_type": "markdown",
   "metadata": {},
   "source": [
    "# placeholder, embedding_lookup 和dropout"
   ]
  },
  {
   "cell_type": "markdown",
   "metadata": {},
   "source": [
    "```\n",
    "本篇博客介绍了placeholder, embedding_lookup 和dropout\n",
    "```"
   ]
  },
  {
   "cell_type": "code",
   "execution_count": 1,
   "metadata": {
    "collapsed": true
   },
   "outputs": [],
   "source": [
    "import tensorflow as tf\n",
    "import numpy as np\n",
    "sess = tf.InteractiveSession()"
   ]
  },
  {
   "cell_type": "markdown",
   "metadata": {},
   "source": [
    "## 1.placeholder\n",
    "\n",
    "placeholder在笔记一中的feed机制中提到，是graph的数据输入。\n",
    "\n",
    "原理很简单，下面的实验关注传入的tensor的shape问题：\n",
    "\n",
    "如果传入的数据的shape是[3,3]，则placeholder的shape可以是[3,3]或者[3,None]；只是[3]会报错。"
   ]
  },
  {
   "cell_type": "code",
   "execution_count": 2,
   "metadata": {
    "collapsed": true
   },
   "outputs": [],
   "source": [
    "indata = tf.placeholder(tf.int32, shape=[3,None])"
   ]
  },
  {
   "cell_type": "code",
   "execution_count": 3,
   "metadata": {
    "collapsed": true
   },
   "outputs": [],
   "source": [
    "mat1 = tf.reshape(tf.range(1, 10, name=\"m1\"), shape=[3, 3])"
   ]
  },
  {
   "cell_type": "code",
   "execution_count": 4,
   "metadata": {
    "collapsed": false
   },
   "outputs": [],
   "source": [
    "out = indata + mat1"
   ]
  },
  {
   "cell_type": "code",
   "execution_count": 5,
   "metadata": {
    "collapsed": false
   },
   "outputs": [
    {
     "data": {
      "text/plain": [
       "array([[ 2,  4,  6],\n",
       "       [ 8, 10, 12],\n",
       "       [14, 16, 18]], dtype=int32)"
      ]
     },
     "execution_count": 5,
     "metadata": {},
     "output_type": "execute_result"
    }
   ],
   "source": [
    "out.eval(feed_dict={indata:np.arange(1,10).reshape(3,3)})"
   ]
  },
  {
   "cell_type": "markdown",
   "metadata": {},
   "source": [
    "## 2.embedding_lookup"
   ]
  },
  {
   "cell_type": "markdown",
   "metadata": {},
   "source": [
    "其实embedding_lookup的原理很简单，相当于在np.array中直接采用下标数组获取数据。\n",
    "\n",
    "细节是返回的tensor的dtype和传入的被查询的tensor的dtype保持一致；和ids的dtype无关。"
   ]
  },
  {
   "cell_type": "code",
   "execution_count": 6,
   "metadata": {
    "collapsed": false
   },
   "outputs": [
    {
     "data": {
      "text/plain": [
       "array([[[4, 5, 6],\n",
       "        [7, 8, 9]],\n",
       "\n",
       "       [[1, 2, 3],\n",
       "        [4, 5, 6]]], dtype=int32)"
      ]
     },
     "execution_count": 6,
     "metadata": {},
     "output_type": "execute_result"
    }
   ],
   "source": [
    "ids = [[1,2], [0,1]]\n",
    "res = tf.nn.embedding_lookup(mat1, ids)\n",
    "res.eval()"
   ]
  },
  {
   "cell_type": "code",
   "execution_count": 7,
   "metadata": {
    "collapsed": false
   },
   "outputs": [
    {
     "data": {
      "text/plain": [
       "array([[ 1.,  2.,  3.],\n",
       "       [ 4.,  5.,  6.],\n",
       "       [ 7.,  8.,  9.]], dtype=float32)"
      ]
     },
     "execution_count": 7,
     "metadata": {},
     "output_type": "execute_result"
    }
   ],
   "source": [
    "mat2 = tf.cast(mat1, tf.float32)\n",
    "mat2.eval()"
   ]
  },
  {
   "cell_type": "code",
   "execution_count": 8,
   "metadata": {
    "collapsed": false
   },
   "outputs": [
    {
     "name": "stdout",
     "output_type": "stream",
     "text": [
      "<dtype: 'float32'>\n",
      "(2, 2, 3)\n",
      "Tensor(\"Shape:0\", shape=(3,), dtype=int32)\n",
      "[2 2 3]\n"
     ]
    },
    {
     "data": {
      "text/plain": [
       "array([[[ 4.,  5.,  6.],\n",
       "        [ 7.,  8.,  9.]],\n",
       "\n",
       "       [[ 1.,  2.,  3.],\n",
       "        [ 4.,  5.,  6.]]], dtype=float32)"
      ]
     },
     "execution_count": 8,
     "metadata": {},
     "output_type": "execute_result"
    }
   ],
   "source": [
    "res2 = tf.nn.embedding_lookup(mat2, ids)\n",
    "print res2.dtype\n",
    "print res2.get_shape()\n",
    "print tf.shape(res2)\n",
    "print tf.shape(res2).eval()\n",
    "res2.eval()"
   ]
  },
  {
   "cell_type": "code",
   "execution_count": 9,
   "metadata": {
    "collapsed": false
   },
   "outputs": [
    {
     "name": "stdout",
     "output_type": "stream",
     "text": [
      "<dtype: 'float32'>\n"
     ]
    }
   ],
   "source": [
    "mat3 = tf.placeholder(tf.float32, shape=[3, 3])\n",
    "res3 = tf.nn.embedding_lookup(mat3, ids)\n",
    "print res3.dtype"
   ]
  },
  {
   "cell_type": "code",
   "execution_count": 10,
   "metadata": {
    "collapsed": false
   },
   "outputs": [
    {
     "data": {
      "text/plain": [
       "array([[1, 2, 3],\n",
       "       [4, 5, 6],\n",
       "       [7, 8, 9]], dtype=int32)"
      ]
     },
     "execution_count": 10,
     "metadata": {},
     "output_type": "execute_result"
    }
   ],
   "source": [
    "a1 = np.arange(1,10, dtype=np.int32).reshape(3,3)\n",
    "a1"
   ]
  },
  {
   "cell_type": "code",
   "execution_count": 11,
   "metadata": {
    "collapsed": false
   },
   "outputs": [
    {
     "data": {
      "text/plain": [
       "array([[[ 4.,  5.,  6.],\n",
       "        [ 7.,  8.,  9.]],\n",
       "\n",
       "       [[ 1.,  2.,  3.],\n",
       "        [ 4.,  5.,  6.]]], dtype=float32)"
      ]
     },
     "execution_count": 11,
     "metadata": {},
     "output_type": "execute_result"
    }
   ],
   "source": [
    "res3.eval(feed_dict={mat3:a1})"
   ]
  },
  {
   "cell_type": "markdown",
   "metadata": {},
   "source": [
    "## 3.dropout"
   ]
  },
  {
   "cell_type": "markdown",
   "metadata": {},
   "source": [
    "dropout是常用的防止过拟合的技巧之一。\n",
    "\n",
    "在tensorflow中，dropout函数接受一个x和一个keep_prob：x是输入的tensor，输出会随机按照keep_prob的概率让输出为0，其他不受影响的输出为输入*1/keep_prob。\n",
    "\n",
    "这样可以保证输出的总量和输入保持一致；同时作为新的神经元的输入，可以忽略掉其中的一些神经元。\n",
    "\n",
    "注意，x的dtype要和kepp_prob保持一致，一般都是float。"
   ]
  },
  {
   "cell_type": "code",
   "execution_count": 12,
   "metadata": {
    "collapsed": false
   },
   "outputs": [],
   "source": [
    "i=tf.range(0,10, dtype=tf.float32)\n",
    "keep_prob = tf.placeholder(\"float\")\n",
    "i = tf.nn.dropout(x=i, keep_prob=keep_prob)"
   ]
  },
  {
   "cell_type": "code",
   "execution_count": 13,
   "metadata": {
    "collapsed": false
   },
   "outputs": [
    {
     "data": {
      "text/plain": [
       "array([  0.        ,   1.42857146,   0.        ,   4.28571415,\n",
       "         5.71428585,   7.14285707,   8.5714283 ,  10.        ,\n",
       "        11.4285717 ,  12.8571434 ], dtype=float32)"
      ]
     },
     "execution_count": 13,
     "metadata": {},
     "output_type": "execute_result"
    }
   ],
   "source": [
    "i.eval(feed_dict={keep_prob:0.7})"
   ]
  }
 ],
 "metadata": {
  "anaconda-cloud": {},
  "kernelspec": {
   "display_name": "Python [default]",
   "language": "python",
   "name": "python2"
  },
  "language_info": {
   "codemirror_mode": {
    "name": "ipython",
    "version": 2.0
   },
   "file_extension": ".py",
   "mimetype": "text/x-python",
   "name": "python",
   "nbconvert_exporter": "python",
   "pygments_lexer": "ipython2",
   "version": "2.7.12"
  }
 },
 "nbformat": 4,
 "nbformat_minor": 0
}