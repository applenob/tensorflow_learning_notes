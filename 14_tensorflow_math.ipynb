{
 "cells": [
  {
   "cell_type": "markdown",
   "metadata": {},
   "source": [
    "```\n",
    "本篇博客记录tensorflow在数学公式表达中常用的操作。\n",
    "```\n",
    "## 目录\n",
    "\n",
    "- [tf.multiply](#tf.multiply)\n",
    "- [tf.reduce_sum](#tf.reduce_sum)\n",
    "- [tf.reduce_mean](#tf.reduce_mean)\n",
    "- [tf.equal](#tf.equal)\n",
    "- [tf.nn.top_k](#tf.nn.top_k)\n",
    "- [tf.unique](#tf.unique)\n",
    "- [tf.diag](#tf.diag)\n",
    "- [tf.diag_part](#tf.diag_part)\n",
    "- [tf.truncated_normal](#tf.truncated_normal)\n",
    "- [tf.nn.l2_normalize](#tf.nn.l2_normalize)"
   ]
  },
  {
   "cell_type": "code",
   "execution_count": 1,
   "metadata": {
    "collapsed": false
   },
   "outputs": [],
   "source": [
    "import tensorflow as tf\n",
    "sess = tf.Session()"
   ]
  },
  {
   "cell_type": "markdown",
   "metadata": {},
   "source": [
    "## tf.multiply\n",
    "\n",
    "element-wise 乘法 $\\bigodot $"
   ]
  },
  {
   "cell_type": "code",
   "execution_count": 2,
   "metadata": {
    "collapsed": false
   },
   "outputs": [
    {
     "data": {
      "text/plain": [
       "array([[ 0,  1,  4,  9, 16],\n",
       "       [25, 36, 49, 64, 81]], dtype=int32)"
      ]
     },
     "execution_count": 2,
     "metadata": {},
     "output_type": "execute_result"
    }
   ],
   "source": [
    "x = tf.reshape(tf.range(10), [2, 5])\n",
    "y = tf.reshape(tf.range(10), [2, 5])\n",
    "z = tf.multiply(x, y)\n",
    "sess.run(z)"
   ]
  },
  {
   "cell_type": "markdown",
   "metadata": {},
   "source": [
    "## tf.reduce_sum\n",
    "求和 $\\sum$"
   ]
  },
  {
   "cell_type": "code",
   "execution_count": 3,
   "metadata": {
    "collapsed": true
   },
   "outputs": [],
   "source": [
    "m1 = tf.reshape(tf.range(15), [3,5])"
   ]
  },
  {
   "cell_type": "code",
   "execution_count": 4,
   "metadata": {
    "collapsed": false
   },
   "outputs": [
    {
     "data": {
      "text/plain": [
       "array([[ 0,  1,  2,  3,  4],\n",
       "       [ 5,  6,  7,  8,  9],\n",
       "       [10, 11, 12, 13, 14]], dtype=int32)"
      ]
     },
     "execution_count": 4,
     "metadata": {},
     "output_type": "execute_result"
    }
   ],
   "source": [
    "sess.run(m1)"
   ]
  },
  {
   "cell_type": "code",
   "execution_count": 5,
   "metadata": {
    "collapsed": false
   },
   "outputs": [
    {
     "data": {
      "text/plain": [
       "105"
      ]
     },
     "execution_count": 5,
     "metadata": {},
     "output_type": "execute_result"
    }
   ],
   "source": [
    "sess.run(tf.reduce_sum(m1))"
   ]
  },
  {
   "cell_type": "code",
   "execution_count": 6,
   "metadata": {
    "collapsed": false
   },
   "outputs": [
    {
     "data": {
      "text/plain": [
       "array([10, 35, 60], dtype=int32)"
      ]
     },
     "execution_count": 6,
     "metadata": {},
     "output_type": "execute_result"
    }
   ],
   "source": [
    "sess.run(tf.reduce_sum(m1, 1))  # 指定求和的维度"
   ]
  },
  {
   "cell_type": "code",
   "execution_count": 7,
   "metadata": {
    "collapsed": false
   },
   "outputs": [
    {
     "data": {
      "text/plain": [
       "TensorShape([Dimension(3)])"
      ]
     },
     "execution_count": 7,
     "metadata": {},
     "output_type": "execute_result"
    }
   ],
   "source": [
    "tf.reduce_sum(m1, 1).get_shape()"
   ]
  },
  {
   "cell_type": "markdown",
   "metadata": {},
   "source": [
    "## tf.reduce_mean\n",
    "求平均 $\\frac{\\sum_{i=1}^n{x_i}}{n}$"
   ]
  },
  {
   "cell_type": "code",
   "execution_count": 8,
   "metadata": {
    "collapsed": false
   },
   "outputs": [
    {
     "data": {
      "text/plain": [
       "array([ 2,  7, 12], dtype=int32)"
      ]
     },
     "execution_count": 8,
     "metadata": {},
     "output_type": "execute_result"
    }
   ],
   "source": [
    "sess.run(tf.reduce_mean(m1, 1))"
   ]
  },
  {
   "cell_type": "markdown",
   "metadata": {},
   "source": [
    "## tf.equal\n",
    "判断是否相等，返回bool的tensor。"
   ]
  },
  {
   "cell_type": "code",
   "execution_count": 9,
   "metadata": {
    "collapsed": true
   },
   "outputs": [],
   "source": [
    "x = tf.placeholder(tf.float32, [5])\n",
    "y = tf.placeholder(tf.float32, [5])\n",
    "z = tf.equal(x,y)"
   ]
  },
  {
   "cell_type": "code",
   "execution_count": 10,
   "metadata": {
    "collapsed": false
   },
   "outputs": [
    {
     "data": {
      "text/plain": [
       "array([ True,  True,  True,  True,  True], dtype=bool)"
      ]
     },
     "execution_count": 10,
     "metadata": {},
     "output_type": "execute_result"
    }
   ],
   "source": [
    "sess.run(z, feed_dict={x:[0,1,1,1,0], y:[1,1,2,0,0]})"
   ]
  },
  {
   "cell_type": "code",
   "execution_count": 11,
   "metadata": {
    "collapsed": false
   },
   "outputs": [
    {
     "data": {
      "text/plain": [
       "array([         0, 1065353216, 1065353216, 1065353216,          0], dtype=int32)"
      ]
     },
     "execution_count": 11,
     "metadata": {},
     "output_type": "execute_result"
    }
   ],
   "source": [
    "w = tf.cast(z, tf.int32)\n",
    "sess.run(w, feed_dict={x:[0,1,1,1,0], y:[1,1,2,0,0]})"
   ]
  },
  {
   "cell_type": "markdown",
   "metadata": {},
   "source": [
    "## tf.nn.top_k\n",
    "\n",
    "返回最后一维的前k个最大的数值，最小可以考虑加个负号。\n",
    "\n",
    "tf.nn.top_k(input, k=1, sorted=True, name=None)\n",
    "\n",
    "返回的是：(values, indices)。"
   ]
  },
  {
   "cell_type": "code",
   "execution_count": 12,
   "metadata": {
    "collapsed": false
   },
   "outputs": [],
   "source": [
    "top_k_values = tf.nn.top_k(y, 4, sorted=True)[0] # 返回y中前k大的值\n",
    "top_k_indices = tf.nn.top_k(y, 4, sorted=True)[1]  # 返回y中前k大的数对应的index"
   ]
  },
  {
   "cell_type": "code",
   "execution_count": 13,
   "metadata": {
    "collapsed": false
   },
   "outputs": [
    {
     "name": "stdout",
     "output_type": "stream",
     "text": [
      "[ 2.  1.  1.  0.]\n",
      "[2 0 1 3]\n"
     ]
    }
   ],
   "source": [
    "print sess.run(top_k_values, feed_dict={ y:[1,1,2,0,0]})\n",
    "print sess.run(top_k_indices, feed_dict={ y:[1,1,2,0,0]})"
   ]
  },
  {
   "cell_type": "markdown",
   "metadata": {},
   "source": [
    "tensorflow中暂时没有排序的功能，可以使用top_k做一个ugly的替代。"
   ]
  },
  {
   "cell_type": "markdown",
   "metadata": {},
   "source": [
    "## tf.unique\n",
    "\n",
    "去掉重复的值，返回原序的独一无二的版本。\n",
    "\n",
    "返回的是：(y, idx)"
   ]
  },
  {
   "cell_type": "code",
   "execution_count": 14,
   "metadata": {
    "collapsed": true
   },
   "outputs": [],
   "source": [
    "v = tf.placeholder(tf.float32, [5])\n",
    "u = tf.unique(v)[0]\n",
    "u_idx = tf.unique(v)[1]"
   ]
  },
  {
   "cell_type": "code",
   "execution_count": 15,
   "metadata": {
    "collapsed": false
   },
   "outputs": [
    {
     "name": "stdout",
     "output_type": "stream",
     "text": [
      "[array([ 3.,  8.,  7.,  1.], dtype=float32), array([0, 1, 2, 2, 3], dtype=int32)]\n"
     ]
    }
   ],
   "source": [
    "print sess.run([u, u_idx], feed_dict={ v:[3, 8, 7, 7, 1]})"
   ]
  },
  {
   "cell_type": "markdown",
   "metadata": {},
   "source": [
    "## tf.diag\n",
    "\n",
    "根据对角向量获取一个对角矩阵。"
   ]
  },
  {
   "cell_type": "code",
   "execution_count": 16,
   "metadata": {
    "collapsed": false
   },
   "outputs": [
    {
     "data": {
      "text/plain": [
       "array([[0, 0, 0, 0, 0],\n",
       "       [0, 1, 0, 0, 0],\n",
       "       [0, 0, 2, 0, 0],\n",
       "       [0, 0, 0, 3, 0],\n",
       "       [0, 0, 0, 0, 4]], dtype=int32)"
      ]
     },
     "execution_count": 16,
     "metadata": {},
     "output_type": "execute_result"
    }
   ],
   "source": [
    "v = tf.range(5)\n",
    "m = tf.diag(v)\n",
    "sess.run(m)"
   ]
  },
  {
   "cell_type": "markdown",
   "metadata": {},
   "source": [
    "## tf.diag_part\n",
    "\n",
    "tf.diag的逆操作，获取一个矩阵的对角向量。"
   ]
  },
  {
   "cell_type": "code",
   "execution_count": 17,
   "metadata": {
    "collapsed": false
   },
   "outputs": [
    {
     "data": {
      "text/plain": [
       "array([0, 1, 2, 3, 4], dtype=int32)"
      ]
     },
     "execution_count": 17,
     "metadata": {},
     "output_type": "execute_result"
    }
   ],
   "source": [
    "v_ = tf.diag_part(m)\n",
    "sess.run(v)"
   ]
  },
  {
   "cell_type": "markdown",
   "metadata": {},
   "source": [
    "## tf.truncated_normal\n",
    "\n",
    "产生随机数矩阵(正态分布)。\n",
    "\n",
    "tf.truncated_normal(shape, mean=0.0, stddev=1.0, dtype=tf.float32, seed=None, name=None)"
   ]
  },
  {
   "cell_type": "code",
   "execution_count": 20,
   "metadata": {
    "collapsed": false
   },
   "outputs": [
    {
     "data": {
      "text/plain": [
       "array([[ -1.71465219e+38,  -1.71465219e+38,  -1.71465219e+38],\n",
       "       [ -1.71465219e+38,  -1.71465300e+38,  -1.71465219e+38]], dtype=float32)"
      ]
     },
     "execution_count": 20,
     "metadata": {},
     "output_type": "execute_result"
    }
   ],
   "source": [
    "t = tf.truncated_normal([2,3])\n",
    "sess.run(t)"
   ]
  },
  {
   "cell_type": "markdown",
   "metadata": {},
   "source": [
    "## tf.nn.l2_normalize\n",
    "\n",
    "L2正则， $||x||_2$\n",
    "\n",
    "tf.nn.l2_normalize(x, dim, epsilon=1e-12, name=None)"
   ]
  },
  {
   "cell_type": "code",
   "execution_count": 19,
   "metadata": {
    "collapsed": false
   },
   "outputs": [
    {
     "data": {
      "text/plain": [
       "array([[  0.00000000e+00,   1.40129846e-45,   2.80259693e-45,\n",
       "          4.20389539e-45,   5.60519386e-45],\n",
       "       [  7.00649232e-45,   8.40779079e-45,   9.80908925e-45,\n",
       "          1.12103877e-44,   1.26116862e-44],\n",
       "       [  1.40129846e-44,   1.54142831e-44,   1.68155816e-44,\n",
       "          1.82168800e-44,   1.96181785e-44],\n",
       "       [  2.10194770e-44,   2.24207754e-44,   2.38220739e-44,\n",
       "          2.52233724e-44,   2.66246708e-44],\n",
       "       [  2.80259693e-44,   2.94272678e-44,   3.08285662e-44,\n",
       "          3.22298647e-44,   3.36311631e-44],\n",
       "       [  3.50324616e-44,   3.64337601e-44,   3.78350585e-44,\n",
       "          3.92363570e-44,   4.06376555e-44],\n",
       "       [  4.20389539e-44,   4.34402524e-44,   4.48415509e-44,\n",
       "          4.62428493e-44,   4.76441478e-44],\n",
       "       [  4.90454463e-44,   5.04467447e-44,   5.18480432e-44,\n",
       "          5.32493416e-44,   5.46506401e-44],\n",
       "       [  5.60519386e-44,   5.74532370e-44,   5.88545355e-44,\n",
       "          6.02558340e-44,   6.16571324e-44],\n",
       "       [  6.30584309e-44,   6.44597294e-44,   6.58610278e-44,\n",
       "          6.72623263e-44,   6.86636248e-44]], dtype=float32)"
      ]
     },
     "execution_count": 19,
     "metadata": {},
     "output_type": "execute_result"
    }
   ],
   "source": [
    "x = tf.cast(tf.reshape(tf.range(50), [10,5]), tf.float32)\n",
    "x_l2_nor = tf.nn.l2_normalize(x, 1)  # 指定在第1维上做正则\n",
    "sess.run(x_l2_nor)"
   ]
  },
  {
   "cell_type": "code",
   "execution_count": null,
   "metadata": {
    "collapsed": true
   },
   "outputs": [],
   "source": []
  }
 ],
 "metadata": {
  "anaconda-cloud": {},
  "kernelspec": {
   "display_name": "Python [conda root]",
   "language": "python",
   "name": "conda-root-py"
  },
  "language_info": {
   "codemirror_mode": {
    "name": "ipython",
    "version": 2
   },
   "file_extension": ".py",
   "mimetype": "text/x-python",
   "name": "python",
   "nbconvert_exporter": "python",
   "pygments_lexer": "ipython2",
   "version": "2.7.12"
  }
 },
 "nbformat": 4,
 "nbformat_minor": 1
}
