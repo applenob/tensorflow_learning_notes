{
 "cells": [
  {
   "cell_type": "markdown",
   "metadata": {},
   "source": [
    "# 控制流程"
   ]
  },
  {
   "cell_type": "markdown",
   "metadata": {},
   "source": [
    "## 1. tf.cond = if else\n",
    "\n",
    "先看看一个简单的例子："
   ]
  },
  {
   "cell_type": "code",
   "execution_count": 1,
   "metadata": {
    "collapsed": true
   },
   "outputs": [],
   "source": [
    "import tensorflow as tf"
   ]
  },
  {
   "cell_type": "code",
   "execution_count": 2,
   "metadata": {
    "collapsed": false
   },
   "outputs": [],
   "source": [
    "x = tf.constant(2)\n",
    "y = tf.constant(5)\n",
    "def f1(): return tf.multiply(x, y)\n",
    "def f2(): return tf.add(x, y)\n",
    "r = tf.cond(tf.less(x, y), f1, f2)"
   ]
  },
  {
   "cell_type": "code",
   "execution_count": 3,
   "metadata": {
    "collapsed": false
   },
   "outputs": [
    {
     "data": {
      "text/plain": [
       "<tf.Tensor 'cond/Merge:0' shape=() dtype=int32>"
      ]
     },
     "execution_count": 3,
     "metadata": {},
     "output_type": "execute_result"
    }
   ],
   "source": [
    "r"
   ]
  },
  {
   "cell_type": "code",
   "execution_count": 4,
   "metadata": {
    "collapsed": false
   },
   "outputs": [
    {
     "name": "stdout",
     "output_type": "stream",
     "text": [
      "10\n"
     ]
    }
   ],
   "source": [
    "with tf.Session() as sess:\n",
    "    print sess.run(r)"
   ]
  },
  {
   "cell_type": "markdown",
   "metadata": {},
   "source": [
    "也就是说，给tf.cond分别传入判断条件；\"是\"的情况下的执行函数；\"否\"的情况下的执行函数。\n",
    "\n",
    "尝试着在一个优化问题中，引入条件判断看看："
   ]
  },
  {
   "cell_type": "code",
   "execution_count": 5,
   "metadata": {
    "collapsed": false
   },
   "outputs": [],
   "source": [
    "flag = tf.placeholder(tf.bool)\n",
    "x = tf.Variable(tf.truncated_normal([1]))\n",
    "r = tf.cond(flag, lambda : tf.multiply(x, 2), lambda : tf.multiply(x, 3))\n",
    "goal = tf.pow(r-3,2)"
   ]
  },
  {
   "cell_type": "markdown",
   "metadata": {},
   "source": [
    "上面代码的意思是，goal函数可以是$(2x-3)^2$，也可以是$(3x-3)^2$，由传入的flag决定。看看梯度会怎么计算。"
   ]
  },
  {
   "cell_type": "code",
   "execution_count": 6,
   "metadata": {
    "collapsed": false
   },
   "outputs": [],
   "source": [
    "optimizer = tf.train.GradientDescentOptimizer(learning_rate=0.1)"
   ]
  },
  {
   "cell_type": "code",
   "execution_count": 7,
   "metadata": {
    "collapsed": false
   },
   "outputs": [
    {
     "name": "stdout",
     "output_type": "stream",
     "text": [
      "[(<tf.Tensor 'gradients/AddN:0' shape=(1,) dtype=float32>, <tensorflow.python.ops.variables.Variable object at 0x7f2758386b50>)]\n",
      "x's gradient to goal: Tensor(\"gradients/AddN:0\", shape=(1,), dtype=float32)\n",
      "x var itself: Tensor(\"Variable/read:0\", shape=(1,), dtype=float32)\n"
     ]
    }
   ],
   "source": [
    "gra_and_var = optimizer.compute_gradients(goal)\n",
    "print gra_and_var\n",
    "print \"x's gradient to goal:\", gra_and_var[0][0]\n",
    "print \"x var itself:\", gra_and_var[0][1]"
   ]
  },
  {
   "cell_type": "code",
   "execution_count": 8,
   "metadata": {
    "collapsed": false
   },
   "outputs": [
    {
     "name": "stdout",
     "output_type": "stream",
     "text": [
      "flag == true, gradient == 8*x-12, x=[-0.28935], gra=[-14.31480026], gra_true=[-14.31480026]\n",
      "flag == flase, gradient == 18*x-18, x=[-0.28935], gra=[-23.20829964], gra_true=[-23.20829964]\n"
     ]
    }
   ],
   "source": [
    "with tf.Session() as sess:\n",
    "    sess.run(tf.global_variables_initializer())\n",
    "    x_, gra_var = sess.run([x, gra_and_var], {flag: True})\n",
    "    print \"flag == true, gradient == 8*x-12, x={}, gra={}, gra_true={}\".format(x_, gra_var[0][0], 8*x_-12)\n",
    "    x_, gra_var = sess.run([x, gra_and_var], {flag: False})\n",
    "    print \"flag == flase, gradient == 18*x-18, x={}, gra={}, gra_true={}\".format(x_, gra_var[0][0], 18*x_-18)"
   ]
  },
  {
   "cell_type": "markdown",
   "metadata": {},
   "source": [
    "也就是说，tensorflow会根据条件判断来构建梯度计算路径，结果和预想的一致。"
   ]
  }
 ],
 "metadata": {
  "anaconda-cloud": {},
  "kernelspec": {
   "display_name": "Python [default]",
   "language": "python",
   "name": "python2"
  },
  "language_info": {
   "codemirror_mode": {
    "name": "ipython",
    "version": 2
   },
   "file_extension": ".py",
   "mimetype": "text/x-python",
   "name": "python",
   "nbconvert_exporter": "python",
   "pygments_lexer": "ipython2",
   "version": "2.7.12"
  }
 },
 "nbformat": 4,
 "nbformat_minor": 0
}
