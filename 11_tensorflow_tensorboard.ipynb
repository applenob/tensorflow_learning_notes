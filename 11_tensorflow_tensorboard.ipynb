{
 "cells": [
  {
   "cell_type": "markdown",
   "metadata": {},
   "source": [
    "# Tensorboard \n",
    "\n",
    "```\n",
    "本篇博客记录tensorboard和tf.summary的基本使用。\n",
    "```"
   ]
  },
  {
   "cell_type": "code",
   "execution_count": 1,
   "metadata": {
    "collapsed": true
   },
   "outputs": [],
   "source": [
    "import tensorflow as tf"
   ]
  },
  {
   "cell_type": "markdown",
   "metadata": {},
   "source": [
    "用tensorboard可视化听起来很酷炫，但实际上很简单：\n",
    "\n",
    "就是在模型中插入一些记录数据的代码，使得一些关键数据可以保存成某种文件格式，再打开tensorboard应用，应用会自动加载这些文件，再在浏览器上以图像展示。\n",
    "\n",
    "保存关键数据的代码都在tf.summary中。\n",
    "\n",
    "主要用到：\n",
    "\n",
    "- tf.summary.scalar\n",
    "- tf.summary.histogram\n",
    "- tf.summary.merge_all\n",
    "- tf.summary.FileWriter"
   ]
  },
  {
   "cell_type": "markdown",
   "metadata": {},
   "source": [
    "还是通过一个简单的优化问题来解释代码："
   ]
  },
  {
   "cell_type": "code",
   "execution_count": 2,
   "metadata": {
    "collapsed": false
   },
   "outputs": [],
   "source": [
    "x = tf.Variable(tf.truncated_normal([]))\n",
    "# 保存x\n",
    "tf.summary.scalar('x', x)\n",
    "goal = tf.pow(x-3,2)\n",
    "# 保存goal\n",
    "tf.summary.scalar('goal', goal)\n",
    "optimizer = tf.train.GradientDescentOptimizer(learning_rate=0.1)\n",
    "train_step = optimizer.minimize(goal)\n",
    "# 把所有summary合并, fetch时只需fetch合并的即可\n",
    "merged = tf.summary.merge_all()"
   ]
  },
  {
   "cell_type": "code",
   "execution_count": 3,
   "metadata": {
    "collapsed": false
   },
   "outputs": [],
   "source": [
    "with tf.Session() as sess:\n",
    "    sess.run(tf.global_variables_initializer())\n",
    "    # 初始化summary writer\n",
    "    writer = tf.summary.FileWriter(\"tmp\" ,sess.graph)\n",
    "    for i in range(10):\n",
    "        _, merged_summary = sess.run([train_step, merged])\n",
    "        writer.add_summary(merged_summary, i)"
   ]
  },
  {
   "cell_type": "markdown",
   "metadata": {},
   "source": [
    "运行完代码以后，就可以看到tmp目录下，多了一个events.out.tfevents.1488947865.cer-GE70-2QE文件。\n",
    "\n",
    "这个时候，我们就可以启动tensorboard了：\n",
    "\n",
    "```bash\n",
    "tensorboard --logdir=path/to/log-directory\n",
    "```\n",
    "\n",
    "如果不想去tensorflow目录下找tensorboard，也可以直接pip install tensorboard。\n",
    "\n",
    "在这里，输入\n",
    "\n",
    "```bash\n",
    "tensorboard --logdir=tmp\n",
    "```\n",
    "\n",
    "按照log的提示，打开浏览器，输入http://127.0.1.1:6006\n",
    "\n",
    "![](https://raw.githubusercontent.com/applenob/tensorflow_learning_notes/master/res/scalar.png)\n",
    "\n",
    "![](https://raw.githubusercontent.com/applenob/tensorflow_learning_notes/master/res/symbol.png)\n"
   ]
  }
 ],
 "metadata": {
  "anaconda-cloud": {},
  "kernelspec": {
   "display_name": "Python [default]",
   "language": "python",
   "name": "python2"
  },
  "language_info": {
   "codemirror_mode": {
    "name": "ipython",
    "version": 2.0
   },
   "file_extension": ".py",
   "mimetype": "text/x-python",
   "name": "python",
   "nbconvert_exporter": "python",
   "pygments_lexer": "ipython2",
   "version": "2.7.12"
  }
 },
 "nbformat": 4,
 "nbformat_minor": 0
}